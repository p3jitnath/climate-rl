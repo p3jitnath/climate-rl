{
 "cells": [
  {
   "cell_type": "code",
   "execution_count": 2,
   "id": "79362695-2e92-4062-a61b-8532b8ab9489",
   "metadata": {},
   "outputs": [],
   "source": [
    "import wandb\n",
    "\n",
    "api = wandb.Api()\n",
    "for r in api.runs(\n",
    "    \"personal-p3jitnath/cleanRL\",\n",
    "    filters={\"group\": \"rce-v0-homo-L-10k_2024-06-01_18-28\"},\n",
    "):\n",
    "    r.group = \"rce-v0-homo-64L-10k_2024-06-01_18-28\"\n",
    "    r.update()"
   ]
  },
  {
   "cell_type": "code",
   "execution_count": null,
   "id": "0ba720b9-af7f-4bda-9dd3-ce6c758d6b11",
   "metadata": {},
   "outputs": [],
   "source": []
  }
 ],
 "metadata": {
  "kernelspec": {
   "display_name": "Python 3 (ipykernel)",
   "language": "python",
   "name": "python3"
  },
  "language_info": {
   "codemirror_mode": {
    "name": "ipython",
    "version": 3
   },
   "file_extension": ".py",
   "mimetype": "text/x-python",
   "name": "python",
   "nbconvert_exporter": "python",
   "pygments_lexer": "ipython3",
   "version": "3.11.6"
  }
 },
 "nbformat": 4,
 "nbformat_minor": 5
}
