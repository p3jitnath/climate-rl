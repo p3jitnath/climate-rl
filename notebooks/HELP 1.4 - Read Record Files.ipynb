{
 "cells": [
  {
   "cell_type": "code",
   "execution_count": 1,
   "id": "e62bffad-2cc3-4148-a568-9262d84de3c5",
   "metadata": {},
   "outputs": [],
   "source": [
    "import glob\n",
    "import importlib\n",
    "import json\n",
    "import sys\n",
    "\n",
    "import climate_envs\n",
    "import gymnasium as gym\n",
    "import matplotlib.pyplot as plt\n",
    "import numpy as np\n",
    "import torch"
   ]
  },
  {
   "cell_type": "code",
   "execution_count": 2,
   "id": "2e8477d0-42c1-40ab-9eb9-12f6b9f179c4",
   "metadata": {},
   "outputs": [],
   "source": [
    "BASE_DIR = \"/gws/nopw/j04/ai4er/users/pn341/climate-rl\"\n",
    "RECORDS_DIR = f\"{BASE_DIR}/records\"\n",
    "ENV_ID = \"SimpleClimateBiasCorrection-v0\"\n",
    "EXP_ID = \"scbc-v0-optim-L\"\n",
    "STEP_COUNT = 200\n",
    "NUM_STEPS = 500\n",
    "SEED = 1\n",
    "\n",
    "sys.path.append(BASE_DIR)"
   ]
  },
  {
   "cell_type": "code",
   "execution_count": 3,
   "id": "14d53399-8e5f-4f5f-950c-03db621d3e4b",
   "metadata": {},
   "outputs": [
    {
     "name": "stderr",
     "output_type": "stream",
     "text": [
      "/home/users/p341cam/miniconda3/envs/venv/lib/python3.11/site-packages/gymnasium/envs/registration.py:513: DeprecationWarning: \u001b[33mWARN: The environment SimpleClimateBiasCorrection-v0 is out of date. You should consider upgrading to version `v2`.\u001b[0m\n",
      "  logger.deprecation(\n"
     ]
    },
    {
     "name": "stdout",
     "output_type": "stream",
     "text": [
      "Loading NCEP air data ...\n"
     ]
    },
    {
     "name": "stderr",
     "output_type": "stream",
     "text": [
      "<frozen importlib._bootstrap>:241: RuntimeWarning: Your system is avx2 capable but pygame was not built with support for it. The performance of some of your blits could be adversely affected. Consider enabling compile time detection with environment variables like PYGAME_DETECT_AVX2=1 if you are compiling without cross compilation.\n"
     ]
    }
   ],
   "source": [
    "def make_env(env_id):\n",
    "    def thunk():\n",
    "        env = gym.make(env_id)\n",
    "        return env\n",
    "\n",
    "    return thunk\n",
    "\n",
    "\n",
    "def get_actor(algo):\n",
    "    module_path = f\"rl-algos.{algo}.{algo}_actor\"\n",
    "    actor_module = importlib.import_module(module_path)\n",
    "    Actor = getattr(actor_module, \"Actor\")\n",
    "    return Actor\n",
    "\n",
    "\n",
    "def get_agent(algo):\n",
    "    module_path = f\"rl-algos.{algo}.{algo}_agent\"\n",
    "    actor_module = importlib.import_module(module_path)\n",
    "    Agent = getattr(actor_module, \"Agent\")\n",
    "    return Agent\n",
    "\n",
    "\n",
    "envs = gym.vector.SyncVectorEnv([make_env(ENV_ID)])"
   ]
  },
  {
   "cell_type": "code",
   "execution_count": 4,
   "id": "d2d0df7a-68dc-4a44-9352-b445f7f7daed",
   "metadata": {},
   "outputs": [],
   "source": [
    "def get_actor_critic_layer_size(pth_fn):\n",
    "    optim_group = (\n",
    "        pth_fn.replace(\"inf_\", \"\")\n",
    "        .replace(\"x9_\", \"\")\n",
    "        .split(\"/\")[-3]\n",
    "        .split(\"_\")[0]\n",
    "    )\n",
    "    if \"64\" in optim_group:\n",
    "        actor_layer_size = critic_layer_size = 64\n",
    "    else:\n",
    "        with open(\n",
    "            f\"{BASE_DIR}/param_tune/results/{optim_group}/best_results.json\",\n",
    "            \"r\",\n",
    "        ) as file:\n",
    "            opt_params = {\n",
    "                k: v\n",
    "                for k, v in json.load(file)[algo].items()\n",
    "                if k not in {\"algo\", \"episodic_return\", \"date\"}\n",
    "            }\n",
    "            for key, value in opt_params.items():\n",
    "                if key == \"actor_critic_layer_size\":\n",
    "                    actor_layer_size = critic_layer_size = value\n",
    "    return actor_layer_size, critic_layer_size"
   ]
  },
  {
   "cell_type": "code",
   "execution_count": 5,
   "id": "93c559a8-69fc-47a9-bcc9-71309711444a",
   "metadata": {},
   "outputs": [
    {
     "ename": "NameError",
     "evalue": "name 'pattern' is not defined",
     "output_type": "error",
     "traceback": [
      "\u001b[0;31m---------------------------------------------------------------------------\u001b[0m",
      "\u001b[0;31mNameError\u001b[0m                                 Traceback (most recent call last)",
      "Cell \u001b[0;32mIn[5], line 6\u001b[0m\n\u001b[1;32m      3\u001b[0m record_steps \u001b[38;5;241m=\u001b[39m torch\u001b[38;5;241m.\u001b[39mload(record_fn)\n\u001b[1;32m      4\u001b[0m actor_layer_size, critic_layer_size \u001b[38;5;241m=\u001b[39m get_actor_critic_layer_size(record_fn)\n\u001b[0;32m----> 6\u001b[0m \u001b[38;5;28;01mif\u001b[39;00m \u001b[38;5;124m\"\u001b[39m\u001b[38;5;124minf\u001b[39m\u001b[38;5;124m\"\u001b[39m \u001b[38;5;129;01mnot\u001b[39;00m \u001b[38;5;129;01min\u001b[39;00m \u001b[43mpattern\u001b[49m:\n\u001b[1;32m      7\u001b[0m     \u001b[38;5;28;01mif\u001b[39;00m algo \u001b[38;5;241m==\u001b[39m \u001b[38;5;124m\"\u001b[39m\u001b[38;5;124mppo\u001b[39m\u001b[38;5;124m\"\u001b[39m:\n\u001b[1;32m      8\u001b[0m         Agent \u001b[38;5;241m=\u001b[39m get_agent(algo)\n",
      "\u001b[0;31mNameError\u001b[0m: name 'pattern' is not defined"
     ]
    }
   ],
   "source": [
    "algo = \"ddpg\"\n",
    "record_fn = glob.glob(\n",
    "    RECORDS_DIR + f\"/inf_*{EXP_ID}_*/*{algo}*{SEED}_*/*{STEP_COUNT}.pth\"\n",
    ")[0]\n",
    "record_steps = torch.load(record_fn)\n",
    "actor_layer_size, critic_layer_size = get_actor_critic_layer_size(record_fn)\n",
    "\n",
    "if \"inf\" not in pattern:\n",
    "    if algo == \"ppo\":\n",
    "        Agent = get_agent(algo)\n",
    "        agent = Agent(envs, actor_layer_size, critic_layer_size)\n",
    "        agent.load_state_dict(record_steps[\"agent\"])\n",
    "    else:\n",
    "        Actor = get_actor(algo)\n",
    "        actor = Actor(envs, actor_layer_size)\n",
    "        actor.load_state_dict(record_steps[\"actor\"])\n",
    "\n",
    "plt.plot(\n",
    "    record_steps[\"global_steps\"][-500:],\n",
    "    record_steps[\"obs\"][-NUM_STEPS:],\n",
    "    label=\"state\",\n",
    ")\n",
    "plt.plot(\n",
    "    record_steps[\"global_steps\"][-NUM_STEPS:],\n",
    "    record_steps[\"actions\"][-NUM_STEPS:],\n",
    "    label=\"action\",\n",
    ")\n",
    "plt.xlabel(\"Steps\")\n",
    "plt.ylabel(\"Value\")\n",
    "plt.legend();"
   ]
  },
  {
   "cell_type": "code",
   "execution_count": null,
   "id": "5ba972b4-3800-45d0-82dc-6eb6e4bd264d",
   "metadata": {},
   "outputs": [],
   "source": [
    "algo = \"td3\"\n",
    "record_fn = glob.glob(\n",
    "    RECORDS_DIR + f\"/inf_*{EXP_ID}*/*{algo}*{SEED}_*/*{STEP_COUNT}.pth\"\n",
    ")[0]\n",
    "record_steps = torch.load(record_fn)\n",
    "actor_layer_size, critic_layer_size = get_actor_critic_layer_size(record_fn)\n",
    "\n",
    "plt.plot(\n",
    "    record_steps[\"global_steps\"][-NUM_STEPS:],\n",
    "    record_steps[\"obs\"][-NUM_STEPS:],\n",
    "    label=\"state\",\n",
    ")\n",
    "plt.plot(\n",
    "    record_steps[\"global_steps\"][-NUM_STEPS:],\n",
    "    record_steps[\"actions\"][-NUM_STEPS:],\n",
    "    label=\"action\",\n",
    ")\n",
    "plt.xlabel(\"Steps\")\n",
    "plt.ylabel(\"Value\")\n",
    "plt.legend();"
   ]
  },
  {
   "cell_type": "code",
   "execution_count": null,
   "id": "a7848aca-75b7-4f4c-9da4-a5e207aa42b4",
   "metadata": {},
   "outputs": [],
   "source": []
  }
 ],
 "metadata": {
  "kernelspec": {
   "display_name": "Python 3 (ipykernel)",
   "language": "python",
   "name": "python3"
  },
  "language_info": {
   "codemirror_mode": {
    "name": "ipython",
    "version": 3
   },
   "file_extension": ".py",
   "mimetype": "text/x-python",
   "name": "python",
   "nbconvert_exporter": "python",
   "pygments_lexer": "ipython3",
   "version": "3.11.11"
  }
 },
 "nbformat": 4,
 "nbformat_minor": 5
}
